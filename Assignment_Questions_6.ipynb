{
  "nbformat": 4,
  "nbformat_minor": 0,
  "metadata": {
    "colab": {
      "provenance": []
    },
    "kernelspec": {
      "name": "python3",
      "display_name": "Python 3"
    },
    "language_info": {
      "name": "python"
    }
  },
  "cells": [
    {
      "cell_type": "markdown",
      "source": [
        "<aside>\n",
        "💡 **Question 1**\n",
        "\n",
        "A permutation perm of n + 1 integers of all the integers in the range [0, n] can be represented as a string s of length n where:\n",
        "\n",
        "- s[i] == 'I' if perm[i] < perm[i + 1], and\n",
        "- s[i] == 'D' if perm[i] > perm[i + 1].\n",
        "\n",
        "Given a string s, reconstruct the permutation perm and return it. If there are multiple valid permutations perm, return **any of them**.\n",
        "\n",
        "**Example 1:**\n",
        "\n",
        "**Input:** s = \"IDID\"\n",
        "\n",
        "**Output:**\n",
        "\n",
        "[0,4,1,3,2]\n",
        "\n",
        "</aside>\n"
      ],
      "metadata": {
        "id": "n28o-4QaCpZw"
      }
    },
    {
      "cell_type": "code",
      "source": [
        "class Solution(object):\n",
        "    def diStringMatch(self, s):\n",
        "        n = len(s)\n",
        "        low, high = 0, n\n",
        "        perm = []\n",
        "\n",
        "        for ch in s:\n",
        "            if ch == 'I':\n",
        "                perm.append(low)\n",
        "                low += 1\n",
        "            elif ch == 'D':\n",
        "                perm.append(high)\n",
        "                high -= 1\n",
        "\n",
        "        perm.append(low)\n",
        "\n",
        "        return perm\n",
        "\n",
        "\n",
        "solution = Solution()\n",
        "\n",
        "s = \"IDID\"\n",
        "print(solution.diStringMatch(s))"
      ],
      "metadata": {
        "colab": {
          "base_uri": "https://localhost:8080/"
        },
        "id": "KABlfp4LC5s2",
        "outputId": "18169696-3d80-491e-d71a-82ccbbb6b999"
      },
      "execution_count": 1,
      "outputs": [
        {
          "output_type": "stream",
          "name": "stdout",
          "text": [
            "[0, 4, 1, 3, 2]\n"
          ]
        }
      ]
    },
    {
      "cell_type": "markdown",
      "source": [
        "<aside>\n",
        "💡 **Question 2**\n",
        "\n",
        "You are given an m x n integer matrix matrix with the following two properties:\n",
        "\n",
        "- Each row is sorted in non-decreasing order.\n",
        "- The first integer of each row is greater than the last integer of the previous row.\n",
        "\n",
        "Given an integer target, return true *if* target *is in* matrix *or* false *otherwise*.\n",
        "\n",
        "You must write a solution in O(log(m * n)) time complexity.\n",
        "\n",
        "**Example 1:**\n",
        "**Input:** matrix = [[1,3,5,7],[10,11,16,20],[23,30,34,60]], target = 3\n",
        "\n",
        "**Output:** true\n",
        "</aside>"
      ],
      "metadata": {
        "id": "liK4plTbCpff"
      }
    },
    {
      "cell_type": "code",
      "source": [
        "class Solution(object):\n",
        "    def searchMatrix(self, matrix, target):\n",
        "        m, n = len(matrix), len(matrix[0])\n",
        "        left, right = 0, m * n - 1\n",
        "\n",
        "        while left <= right:\n",
        "            mid = (left + right) // 2\n",
        "            row = mid // n\n",
        "            col = mid % n\n",
        "            if matrix[row][col] == target:\n",
        "                return True\n",
        "            elif matrix[row][col] > target:\n",
        "                right = mid - 1\n",
        "            else:\n",
        "                left = mid + 1\n",
        "\n",
        "        return False\n",
        "\n",
        "matrix = [[1, 3, 5, 7], [10, 11, 16, 20], [23, 30, 34, 60]]\n",
        "target = 3\n",
        "\n",
        "sol = Solution()\n",
        "print(sol.searchMatrix(matrix, target))"
      ],
      "metadata": {
        "colab": {
          "base_uri": "https://localhost:8080/"
        },
        "id": "D0wWekhpC-s_",
        "outputId": "13abced1-f2b8-436e-81bd-76079aadcce4"
      },
      "execution_count": 2,
      "outputs": [
        {
          "output_type": "stream",
          "name": "stdout",
          "text": [
            "True\n"
          ]
        }
      ]
    },
    {
      "cell_type": "markdown",
      "source": [
        "<aside>\n",
        "💡 **Question 3**\n",
        "\n",
        "Given an array of integers arr, return *true if and only if it is a valid mountain array*.\n",
        "\n",
        "Recall that arr is a mountain array if and only if:\n",
        "\n",
        "- arr.length >= 3\n",
        "- There exists some i with 0 < i < arr.length - 1 such that:\n",
        "    - arr[0] < arr[1] < ... < arr[i - 1] < arr[i]\n",
        "    - arr[i] > arr[i + 1] > ... > arr[arr.length - 1]\n",
        "    \n",
        "**Example 1:**\n",
        "\n",
        "**Input:** arr = [2,1]\n",
        "\n",
        "**Output:**\n",
        "\n",
        "false\n",
        "</aside>"
      ],
      "metadata": {
        "id": "ixXM2GpiCpjr"
      }
    },
    {
      "cell_type": "code",
      "source": [
        "class Solution(object):\n",
        "    def validMountainArray(self, arr):\n",
        "        if len(arr) < 3:\n",
        "            return False\n",
        "\n",
        "        left, right = 0, len(arr) - 1\n",
        "\n",
        "        while left < len(arr) - 1 and arr[left] < arr[left + 1]:\n",
        "            left += 1\n",
        "\n",
        "        while right > 0 and arr[right - 1] > arr[right]:\n",
        "            right -= 1\n",
        "\n",
        "        return left == right and left != 0 and right != len(arr) - 1\n",
        "\n",
        "\n",
        "arr = [2, 1]\n",
        "sol = Solution()\n",
        "print(sol.validMountainArray(arr))"
      ],
      "metadata": {
        "colab": {
          "base_uri": "https://localhost:8080/"
        },
        "id": "atE5cTqiDEVT",
        "outputId": "c83fc65e-45c6-42ad-9579-33fdc7daa0dc"
      },
      "execution_count": 3,
      "outputs": [
        {
          "output_type": "stream",
          "name": "stdout",
          "text": [
            "False\n"
          ]
        }
      ]
    },
    {
      "cell_type": "markdown",
      "source": [
        "<aside>\n",
        "💡 **Question 4**\n",
        "\n",
        "Given a binary array nums, return *the maximum length of a contiguous subarray with an equal number of* 0 *and* 1.\n",
        "\n",
        "**Example 1:**\n",
        "\n",
        "**Input:** nums = [0,1]\n",
        "\n",
        "**Output:** 2\n",
        "\n",
        "**Explanation:**\n",
        "\n",
        "[0, 1] is the longest contiguous subarray with an equal number of 0 and 1.\n",
        "\n",
        "</aside>"
      ],
      "metadata": {
        "id": "Ag9W112kCpnv"
      }
    },
    {
      "cell_type": "code",
      "source": [
        "class Solution(object):\n",
        "    def findMaxLength(self, nums):\n",
        "        max_length = 0\n",
        "        count = 0\n",
        "        count_map = {0: -1}\n",
        "\n",
        "        for i in range(len(nums)):\n",
        "            count += 1 if nums[i] == 1 else -1\n",
        "\n",
        "            if count in count_map:\n",
        "                max_length = max(max_length, i - count_map[count])\n",
        "            else:\n",
        "                count_map[count] = i\n",
        "\n",
        "        return max_length\n",
        "\n",
        "\n",
        "nums = [0, 1]\n",
        "sol = Solution()\n",
        "print(sol.findMaxLength(nums))"
      ],
      "metadata": {
        "colab": {
          "base_uri": "https://localhost:8080/"
        },
        "id": "kocdwy0dDJMI",
        "outputId": "21fefa88-da28-4482-a25e-5b46df1f8759"
      },
      "execution_count": 4,
      "outputs": [
        {
          "output_type": "stream",
          "name": "stdout",
          "text": [
            "2\n"
          ]
        }
      ]
    },
    {
      "cell_type": "markdown",
      "source": [
        "<aside>\n",
        "💡 **Question 5**\n",
        "\n",
        "The **product sum** of two equal-length arrays a and b is equal to the sum of a[i] * b[i] for all 0 <= i < a.length (**0-indexed**).\n",
        "\n",
        "- For example, if a = [1,2,3,4] and b = [5,2,3,1], the **product sum** would be 1*5 + 2*2 + 3*3 + 4*1 = 22.\n",
        "\n",
        "Given two arrays nums1 and nums2 of length n, return *the **minimum product sum** if you are allowed to **rearrange** the **order** of the elements in* nums1.\n",
        "\n",
        "**Example 1:**\n",
        "\n",
        "**Input:** nums1 = [5,3,4,2], nums2 = [4,2,2,5]\n",
        "\n",
        "**Output:** 40\n",
        "\n",
        "**Explanation:**\n",
        "\n",
        "We can rearrange nums1 to become [3,5,4,2]. The product sum of [3,5,4,2] and [4,2,2,5] is 3*4 + 5*2 + 4*2 + 2*5 = 40.\n",
        "\n",
        "</aside>"
      ],
      "metadata": {
        "id": "kE4sWz4OCpqq"
      }
    },
    {
      "cell_type": "code",
      "source": [
        "class Solution:\n",
        "    def minProductSum(self, nums1, nums2):\n",
        "        min_product_sum = 0\n",
        "\n",
        "        nums1.sort()\n",
        "        nums2.sort()\n",
        "\n",
        "        n = len(nums1)\n",
        "        for i in range(n):\n",
        "            min_product_sum += nums1[i] * nums2[n - i - 1]\n",
        "\n",
        "        return min_product_sum\n",
        "\n",
        "\n",
        "nums1 = [5, 3, 4, 2]\n",
        "nums2 = [4, 2, 2, 5]\n",
        "\n",
        "sol = Solution()\n",
        "print(sol.minProductSum(nums1, nums2))\n"
      ],
      "metadata": {
        "colab": {
          "base_uri": "https://localhost:8080/"
        },
        "id": "x6cqisL5DPMa",
        "outputId": "03980e2b-ecc8-4431-c9b8-bb6f97632756"
      },
      "execution_count": 6,
      "outputs": [
        {
          "output_type": "stream",
          "name": "stdout",
          "text": [
            "40\n"
          ]
        }
      ]
    },
    {
      "cell_type": "markdown",
      "source": [
        "<aside>\n",
        "💡 **Question 6**\n",
        "\n",
        "An integer array original is transformed into a **doubled** array changed by appending **twice the value** of every element in original, and then randomly **shuffling** the resulting array.\n",
        "\n",
        "Given an array changed, return original *if* changed *is a **doubled** array. If* changed *is not a **doubled** array, return an empty array. The elements in* original *may be returned in **any** order*.\n",
        "\n",
        "**Example 1:**\n",
        "\n",
        "**Input:** changed = [1,3,4,2,6,8]\n",
        "\n",
        "**Output:** [1,3,4]\n",
        "\n",
        "**Explanation:** One possible original array could be [1,3,4]:\n",
        "\n",
        "- Twice the value of 1 is 1 * 2 = 2.\n",
        "- Twice the value of 3 is 3 * 2 = 6.\n",
        "- Twice the value of 4 is 4 * 2 = 8.\n",
        "\n",
        "Other original arrays could be [4,3,1] or [3,1,4].\n",
        "\n",
        "</aside>"
      ],
      "metadata": {
        "id": "CF_DFNfrCpuD"
      }
    },
    {
      "cell_type": "code",
      "source": [
        "class Solution(object):\n",
        "    def findOriginalArray(self, changed):\n",
        "        count = {}\n",
        "        for num in changed:\n",
        "            count[num] = count.get(num, 0) + 1\n",
        "\n",
        "        changed.sort()\n",
        "\n",
        "        original = []\n",
        "        for num in changed:\n",
        "            if count.get(num, 0) > 0 and count.get(2 * num, 0) > 0:\n",
        "                original.append(num)\n",
        "                count[num] -= 1\n",
        "                count[2 * num] -= 1\n",
        "            elif count.get(num, 0) > 0:\n",
        "                return []\n",
        "\n",
        "        return original\n",
        "\n",
        "\n",
        "changed = [1, 3, 4, 2, 6, 8]\n",
        "sol = Solution()\n",
        "print(sol.findOriginalArray(changed))\n"
      ],
      "metadata": {
        "colab": {
          "base_uri": "https://localhost:8080/"
        },
        "id": "vxl5ftG2DU23",
        "outputId": "dbf8ae4e-5138-4200-d9d5-6e25805c8f92"
      },
      "execution_count": 7,
      "outputs": [
        {
          "output_type": "stream",
          "name": "stdout",
          "text": [
            "[1, 3, 4]\n"
          ]
        }
      ]
    },
    {
      "cell_type": "markdown",
      "source": [
        "<aside>\n",
        "💡 **Question 7**\n",
        "\n",
        "Given a positive integer n, generate an n x n matrix filled with elements from 1 to n2 in spiral order.\n",
        "\n",
        "**Example 1:**\n",
        "\n",
        "**Input:** n = 3\n",
        "\n",
        "**Output:** [[1,2,3],[8,9,4],[7,6,5]]\n",
        "</aside>"
      ],
      "metadata": {
        "id": "uoWBD_oaCpu3"
      }
    },
    {
      "cell_type": "code",
      "source": [
        "class Solution(object):\n",
        "    def generateMatrix(self, n):\n",
        "        matrix = [[0] * n for _ in range(n)]\n",
        "\n",
        "        row_start, row_end = 0, n - 1\n",
        "        col_start, col_end = 0, n - 1\n",
        "        num = 1\n",
        "\n",
        "        while row_start <= row_end and col_start <= col_end:\n",
        "            # Fill the current row from left to right\n",
        "            for i in range(col_start, col_end + 1):\n",
        "                matrix[row_start][i] = num\n",
        "                num += 1\n",
        "            row_start += 1\n",
        "\n",
        "            # Fill the current column from top to bottom\n",
        "            for i in range(row_start, row_end + 1):\n",
        "                matrix[i][col_end] = num\n",
        "                num += 1\n",
        "            col_end -= 1\n",
        "\n",
        "            # Fill the current row from right to left\n",
        "            if row_start <= row_end:\n",
        "                for i in range(col_end, col_start - 1, -1):\n",
        "                    matrix[row_end][i] = num\n",
        "                    num += 1\n",
        "                row_end -= 1\n",
        "\n",
        "            # Fill the current column from bottom to top\n",
        "            if col_start <= col_end:\n",
        "                for i in range(row_end, row_start - 1, -1):\n",
        "                    matrix[i][col_start] = num\n",
        "                    num += 1\n",
        "                col_start += 1\n",
        "\n",
        "        return matrix\n",
        "\n",
        "\n",
        "n = 3\n",
        "sol = Solution()\n",
        "print(sol.generateMatrix(n))\n"
      ],
      "metadata": {
        "colab": {
          "base_uri": "https://localhost:8080/"
        },
        "id": "rmusMB7CDanD",
        "outputId": "aee3d5aa-b6b5-44a8-e86b-9b5998460d3f"
      },
      "execution_count": 8,
      "outputs": [
        {
          "output_type": "stream",
          "name": "stdout",
          "text": [
            "[[1, 2, 3], [8, 9, 4], [7, 6, 5]]\n"
          ]
        }
      ]
    },
    {
      "cell_type": "markdown",
      "source": [
        "<aside>\n",
        "💡 **Question 8**\n",
        "\n",
        "Given two [sparse matrices](https://en.wikipedia.org/wiki/Sparse_matrix) mat1 of size m x k and mat2 of size k x n, return the result of mat1 x mat2. You may assume that multiplication is always possible.\n",
        "\n",
        "**Example 1:**\n",
        "\n",
        "**Input:** mat1 = [[1,0,0],[-1,0,3]], mat2 = [[7,0,0],[0,0,0],[0,0,1]]\n",
        "\n",
        "**Output:**\n",
        "\n",
        "[[7,0,0],[-7,0,3]]"
      ],
      "metadata": {
        "id": "ME0UbzN1D8Ut"
      }
    },
    {
      "cell_type": "code",
      "source": [
        "class Solution:\n",
        "    def multiply(self, mat1, mat2):\n",
        "        m = len(mat1)\n",
        "        k = len(mat1[0])\n",
        "        n = len(mat2[0])\n",
        "\n",
        "        # Initialize the result matrix\n",
        "        result = [[0] * n for _ in range(m)]\n",
        "\n",
        "        # Iterate through the rows of mat1\n",
        "        for i in range(m):\n",
        "            # Create a dictionary to store the non-zero elements in the current row of mat1\n",
        "            row_dict = {}\n",
        "\n",
        "            # Find the non-zero elements in the current row of mat1\n",
        "            for j in range(k):\n",
        "                if mat1[i][j] != 0:\n",
        "                    row_dict[j] = mat1[i][j]\n",
        "\n",
        "            # Iterate through the columns of mat2\n",
        "            for j in range(n):\n",
        "                # Compute the dot product of the current row of mat1 and the current column of mat2\n",
        "                dot_product = 0\n",
        "\n",
        "                # Iterate through the non-zero elements in row_dict\n",
        "                for column_index, value in row_dict.items():\n",
        "                    if mat2[column_index][j] != 0:\n",
        "                        dot_product += value * mat2[column_index][j]\n",
        "\n",
        "                # Add the dot product to the result matrix if it is non-zero\n",
        "                if dot_product != 0:\n",
        "                    result[i][j] = dot_product\n",
        "\n",
        "        return result\n",
        "\n",
        "\n",
        "solution = Solution()\n",
        "\n",
        "mat1 = [[1, 0, 0], [-1, 0, 3]]\n",
        "mat2 = [[7, 0, 0], [0, 0, 0], [0, 0, 1]]\n",
        "\n",
        "result = solution.multiply(mat1, mat2)\n",
        "\n",
        "for row in result:\n",
        "    print(row)\n"
      ],
      "metadata": {
        "colab": {
          "base_uri": "https://localhost:8080/"
        },
        "id": "Mz2kdDnjD6D6",
        "outputId": "1fe96195-a1bb-4332-eeb8-fc8fe24aa015"
      },
      "execution_count": 10,
      "outputs": [
        {
          "output_type": "stream",
          "name": "stdout",
          "text": [
            "[7, 0, 0]\n",
            "[-7, 0, 3]\n"
          ]
        }
      ]
    }
  ]
}